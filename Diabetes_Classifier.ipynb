{
  "nbformat": 4,
  "nbformat_minor": 0,
  "metadata": {
    "colab": {
      "name": "Diabetes Classifier.ipynb",
      "provenance": []
    },
    "kernelspec": {
      "name": "python3",
      "display_name": "Python 3"
    },
    "language_info": {
      "name": "python"
    }
  },
  "cells": [
    {
      "cell_type": "code",
      "execution_count": 33,
      "metadata": {
        "colab": {
          "base_uri": "https://localhost:8080/"
        },
        "id": "uoVsKXiqrQCe",
        "outputId": "a8fdbf4e-afe1-4533-ee15-22c22891d769"
      },
      "outputs": [
        {
          "output_type": "stream",
          "name": "stdout",
          "text": [
            "Drive already mounted at /content/drive; to attempt to forcibly remount, call drive.mount(\"/content/drive\", force_remount=True).\n"
          ]
        }
      ],
      "source": [
        "import pandas as pd\n",
        "import seaborn as sns\n",
        "import matplotlib.pyplot as plt\n",
        "import numpy as np\n",
        "from google.colab import drive\n",
        "drive.mount('/content/drive')\n",
        "df = pd.read_csv(\"/content/drive/My Drive/Colab Notebooks/Data Science/dataset/2015.csv\")"
      ]
    },
    {
      "cell_type": "code",
      "source": [
        "df.shape"
      ],
      "metadata": {
        "colab": {
          "base_uri": "https://localhost:8080/"
        },
        "id": "gl323r65rzzO",
        "outputId": "895dd04a-9289-4bc7-fb46-5c34b4d6d766"
      },
      "execution_count": 34,
      "outputs": [
        {
          "output_type": "execute_result",
          "data": {
            "text/plain": [
              "(441456, 330)"
            ]
          },
          "metadata": {},
          "execution_count": 34
        }
      ]
    },
    {
      "cell_type": "markdown",
      "source": [
        "We have too many columns, we will only keep the columns that are relevant to our project."
      ],
      "metadata": {
        "id": "KlPuiZIksFHM"
      }
    },
    {
      "cell_type": "markdown",
      "source": [
        "Here are the columns that we are going to keep\n",
        "\n",
        "*   If the person has diabetes or not(DIABETE3)\n",
        "*   High blood pressure (_RFHYPE5)\n",
        "*   High cholesterol (TOLDHI2)\n",
        "*   Cholesterol check during the past 5 years (_CHOLCHK)\n",
        "*   BMI (_BMI5)\n",
        "*   If you are a smoker or not (SMOKE100)\n",
        "*   If you ever had a stroke or not (CVDSTRK3)\n",
        "*   If you ever had any heart diseases or not (_MICHD)\n",
        "*   If you have done any physical activity during the last 30 days (_TOTINDA)\n",
        "*   Consume at least one fruit or not (_FRTLT1)\n",
        "*   Consume vegetables at least once a day or not (_VEGLT1)\n",
        "*   If you are a heavy drinker, at least 14 drinks a week (_RFDRHV5)\n",
        "*   If you have any type of health insurance or not (HLTHPLN1)\n",
        "*   If you needed to see a doctor during the past 12 months but couldn't afford the cost (MEDCOST)\n",
        "\n",
        "*   Rate your general health (GENHLTH)\n",
        "\n",
        "*   Rate your mental health (MENTHLTH)\n",
        "*   Rate your physical health (PHYSHLTH)\n",
        "*   If you had any trouble walking or climbing the stairs (DIFFWALK)\n",
        "*   your sex (SEX)\n",
        "*   your age category (_AGEG5YR)\n",
        "*   Your highest level of education (EDUCA)\n",
        "*   Annual household income level (INCOME2)\n",
        "\n",
        "\n",
        "\n",
        "\n",
        "\n",
        "\n",
        "\n",
        "\n",
        "\n",
        "\n",
        "\n",
        "\n",
        "\n",
        "\n",
        "\n",
        "\n"
      ],
      "metadata": {
        "id": "wTJbQ1uAsaQU"
      }
    },
    {
      "cell_type": "code",
      "source": [
        "short_df = df[['DIABETE3','_RFHYPE5', 'TOLDHI2', '_CHOLCHK', '_BMI5', 'SMOKE100', 'CVDSTRK3',\n",
        "               '_MICHD', '_TOTINDA', '_FRTLT1', '_VEGLT1', '_RFDRHV5', 'HLTHPLN1', 'MEDCOST','GENHLTH',\n",
        "               'MENTHLTH', 'PHYSHLTH', 'DIFFWALK', 'SEX', '_AGEG5YR', 'EDUCA', 'INCOME2']]"
      ],
      "metadata": {
        "id": "GJvqYQSdsBhV"
      },
      "execution_count": 35,
      "outputs": []
    },
    {
      "cell_type": "code",
      "source": [
        "short_df.head()"
      ],
      "metadata": {
        "colab": {
          "base_uri": "https://localhost:8080/",
          "height": 270
        },
        "id": "teYYfUVlx5PV",
        "outputId": "48bbb316-d348-4e54-bd17-a49da3e589f1"
      },
      "execution_count": 36,
      "outputs": [
        {
          "output_type": "execute_result",
          "data": {
            "text/html": [
              "\n",
              "  <div id=\"df-200f2dcc-c726-4335-9c75-ae2bbecae869\">\n",
              "    <div class=\"colab-df-container\">\n",
              "      <div>\n",
              "<style scoped>\n",
              "    .dataframe tbody tr th:only-of-type {\n",
              "        vertical-align: middle;\n",
              "    }\n",
              "\n",
              "    .dataframe tbody tr th {\n",
              "        vertical-align: top;\n",
              "    }\n",
              "\n",
              "    .dataframe thead th {\n",
              "        text-align: right;\n",
              "    }\n",
              "</style>\n",
              "<table border=\"1\" class=\"dataframe\">\n",
              "  <thead>\n",
              "    <tr style=\"text-align: right;\">\n",
              "      <th></th>\n",
              "      <th>DIABETE3</th>\n",
              "      <th>_RFHYPE5</th>\n",
              "      <th>TOLDHI2</th>\n",
              "      <th>_CHOLCHK</th>\n",
              "      <th>_BMI5</th>\n",
              "      <th>SMOKE100</th>\n",
              "      <th>CVDSTRK3</th>\n",
              "      <th>_MICHD</th>\n",
              "      <th>_TOTINDA</th>\n",
              "      <th>_FRTLT1</th>\n",
              "      <th>_VEGLT1</th>\n",
              "      <th>_RFDRHV5</th>\n",
              "      <th>HLTHPLN1</th>\n",
              "      <th>MEDCOST</th>\n",
              "      <th>GENHLTH</th>\n",
              "      <th>MENTHLTH</th>\n",
              "      <th>PHYSHLTH</th>\n",
              "      <th>DIFFWALK</th>\n",
              "      <th>SEX</th>\n",
              "      <th>_AGEG5YR</th>\n",
              "      <th>EDUCA</th>\n",
              "      <th>INCOME2</th>\n",
              "    </tr>\n",
              "  </thead>\n",
              "  <tbody>\n",
              "    <tr>\n",
              "      <th>0</th>\n",
              "      <td>3.0</td>\n",
              "      <td>2.0</td>\n",
              "      <td>1.0</td>\n",
              "      <td>1.0</td>\n",
              "      <td>4018.0</td>\n",
              "      <td>1.0</td>\n",
              "      <td>2.0</td>\n",
              "      <td>2.0</td>\n",
              "      <td>2.0</td>\n",
              "      <td>2.0</td>\n",
              "      <td>1.0</td>\n",
              "      <td>1.0</td>\n",
              "      <td>1.0</td>\n",
              "      <td>2.0</td>\n",
              "      <td>5.0</td>\n",
              "      <td>18.0</td>\n",
              "      <td>15.0</td>\n",
              "      <td>1.0</td>\n",
              "      <td>2.0</td>\n",
              "      <td>9.0</td>\n",
              "      <td>4.0</td>\n",
              "      <td>3.0</td>\n",
              "    </tr>\n",
              "    <tr>\n",
              "      <th>1</th>\n",
              "      <td>3.0</td>\n",
              "      <td>1.0</td>\n",
              "      <td>2.0</td>\n",
              "      <td>2.0</td>\n",
              "      <td>2509.0</td>\n",
              "      <td>1.0</td>\n",
              "      <td>2.0</td>\n",
              "      <td>2.0</td>\n",
              "      <td>1.0</td>\n",
              "      <td>2.0</td>\n",
              "      <td>2.0</td>\n",
              "      <td>1.0</td>\n",
              "      <td>2.0</td>\n",
              "      <td>1.0</td>\n",
              "      <td>3.0</td>\n",
              "      <td>88.0</td>\n",
              "      <td>88.0</td>\n",
              "      <td>2.0</td>\n",
              "      <td>2.0</td>\n",
              "      <td>7.0</td>\n",
              "      <td>6.0</td>\n",
              "      <td>1.0</td>\n",
              "    </tr>\n",
              "    <tr>\n",
              "      <th>2</th>\n",
              "      <td>3.0</td>\n",
              "      <td>1.0</td>\n",
              "      <td>1.0</td>\n",
              "      <td>1.0</td>\n",
              "      <td>2204.0</td>\n",
              "      <td>NaN</td>\n",
              "      <td>1.0</td>\n",
              "      <td>NaN</td>\n",
              "      <td>9.0</td>\n",
              "      <td>9.0</td>\n",
              "      <td>9.0</td>\n",
              "      <td>9.0</td>\n",
              "      <td>1.0</td>\n",
              "      <td>2.0</td>\n",
              "      <td>4.0</td>\n",
              "      <td>88.0</td>\n",
              "      <td>15.0</td>\n",
              "      <td>NaN</td>\n",
              "      <td>2.0</td>\n",
              "      <td>11.0</td>\n",
              "      <td>4.0</td>\n",
              "      <td>99.0</td>\n",
              "    </tr>\n",
              "    <tr>\n",
              "      <th>3</th>\n",
              "      <td>3.0</td>\n",
              "      <td>2.0</td>\n",
              "      <td>1.0</td>\n",
              "      <td>1.0</td>\n",
              "      <td>2819.0</td>\n",
              "      <td>2.0</td>\n",
              "      <td>2.0</td>\n",
              "      <td>2.0</td>\n",
              "      <td>2.0</td>\n",
              "      <td>1.0</td>\n",
              "      <td>2.0</td>\n",
              "      <td>1.0</td>\n",
              "      <td>1.0</td>\n",
              "      <td>1.0</td>\n",
              "      <td>5.0</td>\n",
              "      <td>30.0</td>\n",
              "      <td>30.0</td>\n",
              "      <td>1.0</td>\n",
              "      <td>2.0</td>\n",
              "      <td>9.0</td>\n",
              "      <td>4.0</td>\n",
              "      <td>8.0</td>\n",
              "    </tr>\n",
              "    <tr>\n",
              "      <th>4</th>\n",
              "      <td>3.0</td>\n",
              "      <td>1.0</td>\n",
              "      <td>2.0</td>\n",
              "      <td>1.0</td>\n",
              "      <td>2437.0</td>\n",
              "      <td>2.0</td>\n",
              "      <td>2.0</td>\n",
              "      <td>2.0</td>\n",
              "      <td>2.0</td>\n",
              "      <td>9.0</td>\n",
              "      <td>1.0</td>\n",
              "      <td>1.0</td>\n",
              "      <td>1.0</td>\n",
              "      <td>2.0</td>\n",
              "      <td>5.0</td>\n",
              "      <td>88.0</td>\n",
              "      <td>20.0</td>\n",
              "      <td>2.0</td>\n",
              "      <td>2.0</td>\n",
              "      <td>9.0</td>\n",
              "      <td>5.0</td>\n",
              "      <td>77.0</td>\n",
              "    </tr>\n",
              "  </tbody>\n",
              "</table>\n",
              "</div>\n",
              "      <button class=\"colab-df-convert\" onclick=\"convertToInteractive('df-200f2dcc-c726-4335-9c75-ae2bbecae869')\"\n",
              "              title=\"Convert this dataframe to an interactive table.\"\n",
              "              style=\"display:none;\">\n",
              "        \n",
              "  <svg xmlns=\"http://www.w3.org/2000/svg\" height=\"24px\"viewBox=\"0 0 24 24\"\n",
              "       width=\"24px\">\n",
              "    <path d=\"M0 0h24v24H0V0z\" fill=\"none\"/>\n",
              "    <path d=\"M18.56 5.44l.94 2.06.94-2.06 2.06-.94-2.06-.94-.94-2.06-.94 2.06-2.06.94zm-11 1L8.5 8.5l.94-2.06 2.06-.94-2.06-.94L8.5 2.5l-.94 2.06-2.06.94zm10 10l.94 2.06.94-2.06 2.06-.94-2.06-.94-.94-2.06-.94 2.06-2.06.94z\"/><path d=\"M17.41 7.96l-1.37-1.37c-.4-.4-.92-.59-1.43-.59-.52 0-1.04.2-1.43.59L10.3 9.45l-7.72 7.72c-.78.78-.78 2.05 0 2.83L4 21.41c.39.39.9.59 1.41.59.51 0 1.02-.2 1.41-.59l7.78-7.78 2.81-2.81c.8-.78.8-2.07 0-2.86zM5.41 20L4 18.59l7.72-7.72 1.47 1.35L5.41 20z\"/>\n",
              "  </svg>\n",
              "      </button>\n",
              "      \n",
              "  <style>\n",
              "    .colab-df-container {\n",
              "      display:flex;\n",
              "      flex-wrap:wrap;\n",
              "      gap: 12px;\n",
              "    }\n",
              "\n",
              "    .colab-df-convert {\n",
              "      background-color: #E8F0FE;\n",
              "      border: none;\n",
              "      border-radius: 50%;\n",
              "      cursor: pointer;\n",
              "      display: none;\n",
              "      fill: #1967D2;\n",
              "      height: 32px;\n",
              "      padding: 0 0 0 0;\n",
              "      width: 32px;\n",
              "    }\n",
              "\n",
              "    .colab-df-convert:hover {\n",
              "      background-color: #E2EBFA;\n",
              "      box-shadow: 0px 1px 2px rgba(60, 64, 67, 0.3), 0px 1px 3px 1px rgba(60, 64, 67, 0.15);\n",
              "      fill: #174EA6;\n",
              "    }\n",
              "\n",
              "    [theme=dark] .colab-df-convert {\n",
              "      background-color: #3B4455;\n",
              "      fill: #D2E3FC;\n",
              "    }\n",
              "\n",
              "    [theme=dark] .colab-df-convert:hover {\n",
              "      background-color: #434B5C;\n",
              "      box-shadow: 0px 1px 3px 1px rgba(0, 0, 0, 0.15);\n",
              "      filter: drop-shadow(0px 1px 2px rgba(0, 0, 0, 0.3));\n",
              "      fill: #FFFFFF;\n",
              "    }\n",
              "  </style>\n",
              "\n",
              "      <script>\n",
              "        const buttonEl =\n",
              "          document.querySelector('#df-200f2dcc-c726-4335-9c75-ae2bbecae869 button.colab-df-convert');\n",
              "        buttonEl.style.display =\n",
              "          google.colab.kernel.accessAllowed ? 'block' : 'none';\n",
              "\n",
              "        async function convertToInteractive(key) {\n",
              "          const element = document.querySelector('#df-200f2dcc-c726-4335-9c75-ae2bbecae869');\n",
              "          const dataTable =\n",
              "            await google.colab.kernel.invokeFunction('convertToInteractive',\n",
              "                                                     [key], {});\n",
              "          if (!dataTable) return;\n",
              "\n",
              "          const docLinkHtml = 'Like what you see? Visit the ' +\n",
              "            '<a target=\"_blank\" href=https://colab.research.google.com/notebooks/data_table.ipynb>data table notebook</a>'\n",
              "            + ' to learn more about interactive tables.';\n",
              "          element.innerHTML = '';\n",
              "          dataTable['output_type'] = 'display_data';\n",
              "          await google.colab.output.renderOutput(dataTable, element);\n",
              "          const docLink = document.createElement('div');\n",
              "          docLink.innerHTML = docLinkHtml;\n",
              "          element.appendChild(docLink);\n",
              "        }\n",
              "      </script>\n",
              "    </div>\n",
              "  </div>\n",
              "  "
            ],
            "text/plain": [
              "   DIABETE3  _RFHYPE5  TOLDHI2  _CHOLCHK  ...  SEX  _AGEG5YR  EDUCA  INCOME2\n",
              "0       3.0       2.0      1.0       1.0  ...  2.0       9.0    4.0      3.0\n",
              "1       3.0       1.0      2.0       2.0  ...  2.0       7.0    6.0      1.0\n",
              "2       3.0       1.0      1.0       1.0  ...  2.0      11.0    4.0     99.0\n",
              "3       3.0       2.0      1.0       1.0  ...  2.0       9.0    4.0      8.0\n",
              "4       3.0       1.0      2.0       1.0  ...  2.0       9.0    5.0     77.0\n",
              "\n",
              "[5 rows x 22 columns]"
            ]
          },
          "metadata": {},
          "execution_count": 36
        }
      ]
    },
    {
      "cell_type": "code",
      "source": [
        "#Drop rows with null values\n",
        "short_df = short_df.dropna()"
      ],
      "metadata": {
        "id": "9csxFkiAyD9z"
      },
      "execution_count": 37,
      "outputs": []
    },
    {
      "cell_type": "code",
      "source": [
        "short_df.shape"
      ],
      "metadata": {
        "colab": {
          "base_uri": "https://localhost:8080/"
        },
        "id": "jauNg3hyyPK9",
        "outputId": "caa9d7af-eba5-4224-b294-c7cb9ae0ef23"
      },
      "execution_count": 38,
      "outputs": [
        {
          "output_type": "execute_result",
          "data": {
            "text/plain": [
              "(343606, 22)"
            ]
          },
          "metadata": {},
          "execution_count": 38
        }
      ]
    },
    {
      "cell_type": "markdown",
      "source": [
        "Let's rename the columns to meaningful names"
      ],
      "metadata": {
        "id": "E1m0yV2X6hpm"
      }
    },
    {
      "cell_type": "code",
      "source": [
        "short_df = short_df.rename(columns = {'DIABETE3':'diabete', \n",
        "                                         '_RFHYPE5':'high_blood_pressure',  \n",
        "                                         'TOLDHI2':'high_cholesterol', '_CHOLCHK':'cholesterol_check', \n",
        "                                         '_BMI5':'bmi', \n",
        "                                         'SMOKE100':'heavy_smoker', \n",
        "                                         'CVDSTRK3':'stroke', '_MICHD':'heart_disease', \n",
        "                                         '_TOTINDA':'physical_activity', \n",
        "                                         '_FRTLT1':'fruits', '_VEGLT1':\"vegetables\", \n",
        "                                         '_RFDRHV5':'heavy_alcohol', \n",
        "                                         'HLTHPLN1':'health_insurance', 'MEDCOST':'health_cost', \n",
        "                                         'GENHLTH':'general_health', 'MENTHLTH':'mental_health', 'PHYSHLTH':'physical_health', \n",
        "                                         'DIFFWALK':'walk', \n",
        "                                         'SEX':'sex', '_AGEG5YR':'age', 'EDUCA':'education', 'INCOME2':'income' })"
      ],
      "metadata": {
        "id": "WQTtaNXB6hPf"
      },
      "execution_count": 39,
      "outputs": []
    },
    {
      "cell_type": "markdown",
      "source": [
        "Will make the diabetes column ordinal. 0 for those who don't have diabetes, 1 for those who are borderline diabetic and 2 for those who are diabetic. We drop 7 and 9 as they refused to respond"
      ],
      "metadata": {
        "id": "ivjSvEMwy353"
      }
    },
    {
      "cell_type": "code",
      "source": [
        "short_df['diabete'] = short_df['diabete'].replace({2:0, 3:0, 1:2, 4:1})\n",
        "short_df = short_df[short_df.diabete != 7]\n",
        "short_df = short_df[short_df.diabete != 9]"
      ],
      "metadata": {
        "id": "0xvbiPUbySid"
      },
      "execution_count": 40,
      "outputs": []
    },
    {
      "cell_type": "code",
      "source": [
        "short_df['diabete'].unique()"
      ],
      "metadata": {
        "colab": {
          "base_uri": "https://localhost:8080/"
        },
        "id": "swW_rhNLzUX0",
        "outputId": "5a5f813f-18ec-4bbf-ed68-353462f73179"
      },
      "execution_count": 41,
      "outputs": [
        {
          "output_type": "execute_result",
          "data": {
            "text/plain": [
              "array([0., 2., 1.])"
            ]
          },
          "metadata": {},
          "execution_count": 41
        }
      ]
    },
    {
      "cell_type": "markdown",
      "source": [
        "High blood pressure we make it binary. 0 for no and 1 for yes"
      ],
      "metadata": {
        "id": "KBYTr5DnzjAF"
      }
    },
    {
      "cell_type": "code",
      "source": [
        "short_df['high_blood_pressure'] = short_df['high_blood_pressure'].replace({1:0, 2:1})\n",
        "short_df = short_df[short_df.high_blood_pressure != 9]"
      ],
      "metadata": {
        "id": "tzDbZt31za0c"
      },
      "execution_count": 42,
      "outputs": []
    },
    {
      "cell_type": "code",
      "source": [
        "#Change this column value to 0 and drop the others\n",
        "short_df['high_cholesterol'] = short_df['high_cholesterol'].replace({2:0})\n",
        "short_df = short_df[short_df.high_cholesterol != 7]\n",
        "short_df = short_df[short_df.high_cholesterol != 9]"
      ],
      "metadata": {
        "id": "55bux7stz1ZW"
      },
      "execution_count": 43,
      "outputs": []
    },
    {
      "cell_type": "markdown",
      "source": [
        "For cholesterol Change 3 to 0 and 2 to 0 for Not checked cholesterol in past 5 years and remove 9"
      ],
      "metadata": {
        "id": "jhbUTeZg0J-O"
      }
    },
    {
      "cell_type": "code",
      "source": [
        "short_df['cholesterol_check'] = short_df['cholesterol_check'].replace({3:0,2:0})\n",
        "short_df = short_df[short_df.cholesterol_check != 9]"
      ],
      "metadata": {
        "id": "D9zOfaqj0Ell"
      },
      "execution_count": 44,
      "outputs": []
    },
    {
      "cell_type": "markdown",
      "source": [
        "For BMI, (no changes, just note that these are BMI * 100. So for example a BMI of 4018 is really 40.18)"
      ],
      "metadata": {
        "id": "CJnhI2sb0VCf"
      }
    },
    {
      "cell_type": "code",
      "source": [
        "short_df['bmi'] = short_df['bmi'].div(100).round(0)"
      ],
      "metadata": {
        "id": "25uvqA760cvu"
      },
      "execution_count": 45,
      "outputs": []
    },
    {
      "cell_type": "markdown",
      "source": [
        "For heavy smokers, Change 2 to 0 because it is No.\n",
        "Remove all 7 (dont knows).\n",
        "Remove all 9 (refused)."
      ],
      "metadata": {
        "id": "xt9wq-LT0iOs"
      }
    },
    {
      "cell_type": "code",
      "source": [
        "short_df['heavy_smoker'] = short_df['heavy_smoker'].replace({2:0})\n",
        "short_df = short_df[short_df.heavy_smoker != 7]\n",
        "short_df = short_df[short_df.heavy_smoker != 9]"
      ],
      "metadata": {
        "id": "klfauA9T0uO8"
      },
      "execution_count": 46,
      "outputs": []
    },
    {
      "cell_type": "markdown",
      "source": [
        "For stroke, Change 2 to 0 because it is No.\n",
        "Remove all 7 (dont knows).\n",
        "Remove all 9 (refused)."
      ],
      "metadata": {
        "id": "-Q60LJ_W09Ut"
      }
    },
    {
      "cell_type": "code",
      "source": [
        "short_df['stroke'] = short_df['stroke'].replace({2:0})\n",
        "short_df = short_df[short_df.stroke != 7]\n",
        "short_df = short_df[short_df.stroke != 9]"
      ],
      "metadata": {
        "id": "2vPlOpzD0171"
      },
      "execution_count": 47,
      "outputs": []
    },
    {
      "cell_type": "markdown",
      "source": [
        "_MICHD, we Change 2 to 0 because this means the patient did not have any heart disease"
      ],
      "metadata": {
        "id": "aX3u_XOr1NR-"
      }
    },
    {
      "cell_type": "code",
      "source": [
        "short_df['heart_disease'] = short_df['heart_disease'].replace({2: 0})"
      ],
      "metadata": {
        "id": "B5WeK5E71Ywv"
      },
      "execution_count": 48,
      "outputs": []
    },
    {
      "cell_type": "markdown",
      "source": [
        "1 for physical activity.\n",
        "change 2 to 0 for no physical activity.\n",
        "Remove all 9 (don't know/refused)."
      ],
      "metadata": {
        "id": "2688u_7H1osX"
      }
    },
    {
      "cell_type": "code",
      "source": [
        "short_df['physical_activity'] = short_df['physical_activity'].replace({2:0})\n",
        "short_df = short_df[short_df.physical_activity != 9]"
      ],
      "metadata": {
        "id": "H0BkeH2p11NN"
      },
      "execution_count": 49,
      "outputs": []
    },
    {
      "cell_type": "markdown",
      "source": [
        "Change 2 to 0. this means no fruit consumed per day. 1 will mean consumed 1 or more pieces of fruit per day. Remove all dont knows and missing 9"
      ],
      "metadata": {
        "id": "pOew2WJf1719"
      }
    },
    {
      "cell_type": "code",
      "source": [
        "short_df['fruits'] = short_df['fruits'].replace({2:0})\n",
        "short_df = short_df[short_df.fruits != 9]"
      ],
      "metadata": {
        "id": "tHuxngiF2UHh"
      },
      "execution_count": 50,
      "outputs": []
    },
    {
      "cell_type": "markdown",
      "source": [
        "Change 2 to 0. this means no vegetables consumed per day. 1 will mean consumed 1 or more pieces of vegetable per day. \n",
        "Remove all dont knows and missing 9"
      ],
      "metadata": {
        "id": "K9exeanc2abO"
      }
    },
    {
      "cell_type": "code",
      "source": [
        "short_df['vegetables'] = short_df['vegetables'].replace({2:0})\n",
        "short_df = short_df[short_df.vegetables != 9]"
      ],
      "metadata": {
        "id": "dbHdxYyf2hk1"
      },
      "execution_count": 51,
      "outputs": []
    },
    {
      "cell_type": "markdown",
      "source": [
        "Change 1 to 0 (1 was no for heavy drinking). change all 2 to 1 (2 was yes for heavy drinking).\n",
        "Remove all dont knows and missing 9"
      ],
      "metadata": {
        "id": "Bh7knRvv2sKx"
      }
    },
    {
      "cell_type": "code",
      "source": [
        "short_df['heavy_alcohol'] = short_df['heavy_alcohol'].replace({1:0, 2:1})\n",
        "short_df = short_df[short_df.heavy_alcohol != 9]"
      ],
      "metadata": {
        "id": "REHahO2i2uqd"
      },
      "execution_count": 52,
      "outputs": []
    },
    {
      "cell_type": "markdown",
      "source": [
        "1 is yes, change 2 to 0 because it is No health insurance.\n",
        "Remove 7 and 9 for don't know or refused"
      ],
      "metadata": {
        "id": "zNlinpOo2z7F"
      }
    },
    {
      "cell_type": "code",
      "source": [
        "short_df['health_insurance'] = short_df['health_insurance'].replace({2:0})\n",
        "short_df = short_df[short_df.health_insurance != 7]\n",
        "short_df = short_df[short_df.health_insurance != 9]"
      ],
      "metadata": {
        "id": "yTy_m6nk28nV"
      },
      "execution_count": 54,
      "outputs": []
    },
    {
      "cell_type": "markdown",
      "source": [
        "For those who couldn't afford the cost, Change 2 to 0 for no, 1 is already yes.\n",
        "Remove 7 for don/t know and 9 for refused"
      ],
      "metadata": {
        "id": "KGhW77yh3Idc"
      }
    },
    {
      "cell_type": "code",
      "source": [
        "short_df['health_cost'] = short_df['health_cost'].replace({2:0})\n",
        "short_df = short_df[short_df.health_cost != 7]\n",
        "short_df = short_df[short_df.health_cost != 9]"
      ],
      "metadata": {
        "id": "ARvp_EsP3EK0"
      },
      "execution_count": 55,
      "outputs": []
    },
    {
      "cell_type": "markdown",
      "source": [
        "Rating General health, This is an ordinal variable that I want to keep (1 is Excellent -> 5 is Poor).\n",
        "Remove 7 and 9 for don't know and refused"
      ],
      "metadata": {
        "id": "unSgY69s3bql"
      }
    },
    {
      "cell_type": "code",
      "source": [
        "short_df = short_df[short_df.general_health != 7]\n",
        "short_df = short_df[short_df.general_health != 9]"
      ],
      "metadata": {
        "id": "OISMi1x23gGc"
      },
      "execution_count": 56,
      "outputs": []
    },
    {
      "cell_type": "markdown",
      "source": [
        "Rate Mental health, already in days so keep that, scale will be 0-30. Change 88 to 0 because it means none (no bad mental health days).\n",
        "Remove 77 and 99 for don't know not sure and refused"
      ],
      "metadata": {
        "id": "qCmR5BsC3qFl"
      }
    },
    {
      "cell_type": "code",
      "source": [
        "short_df = short_df[short_df.mental_health != 77]\n",
        "short_df = short_df[short_df.mental_health != 99]"
      ],
      "metadata": {
        "id": "xrbDOV6G3nbd"
      },
      "execution_count": 57,
      "outputs": []
    },
    {
      "cell_type": "markdown",
      "source": [
        "Physical health, already in days so keep that, scale will be 0-30.\n",
        "Change 88 to 0 because it means none (no bad mental health days).\n",
        "Remove 77 and 99 for don't know not sure and refused."
      ],
      "metadata": {
        "id": "nyMEc0fz4BcN"
      }
    },
    {
      "cell_type": "code",
      "source": [
        "short_df['physical_health'] = short_df['physical_health'].replace({88:0})\n",
        "short_df = short_df[short_df.physical_health != 77]\n",
        "short_df = short_df[short_df.physical_health != 99]"
      ],
      "metadata": {
        "id": "F6KBaLhr36xe"
      },
      "execution_count": 58,
      "outputs": []
    },
    {
      "cell_type": "markdown",
      "source": [
        "Difficulties walking, Change 2 to 0 for no. 1 is already yes.\n",
        "Remove 7 and 9 for don't know not sure and refused"
      ],
      "metadata": {
        "id": "80t4wLsW4VFN"
      }
    },
    {
      "cell_type": "code",
      "source": [
        "short_df['walk'] = short_df['walk'].replace({2:0})\n",
        "short_df = short_df[short_df.walk != 7]\n",
        "short_df = short_df[short_df.walk != 9]"
      ],
      "metadata": {
        "id": "T1EsnmcJ4eHl"
      },
      "execution_count": 59,
      "outputs": []
    },
    {
      "cell_type": "markdown",
      "source": [
        "For sex, we arbitrarily chose this change because men are more likely to have heart disease).\n",
        "Change 2 to 0 (female as 0). Male is 1."
      ],
      "metadata": {
        "id": "DDHbZZDI4me1"
      }
    },
    {
      "cell_type": "code",
      "source": [
        "short_df['sex'] = short_df['sex'].replace({2:0})"
      ],
      "metadata": {
        "id": "GO4gb4xN48Fl"
      },
      "execution_count": 60,
      "outputs": []
    },
    {
      "cell_type": "markdown",
      "source": [
        "For age, it is already ordinal we just remove 14 because it is don't know or missing\n"
      ],
      "metadata": {
        "id": "5wzmT4Y35BA3"
      }
    },
    {
      "cell_type": "code",
      "source": [
        "short_df = short_df[short_df.age != 14]"
      ],
      "metadata": {
        "id": "TYIG58yW5AvG"
      },
      "execution_count": 61,
      "outputs": []
    },
    {
      "cell_type": "markdown",
      "source": [
        "For education, the scale is from 1 to 6.\n",
        "We just emove 9 for refused"
      ],
      "metadata": {
        "id": "7yaCor3X5xu2"
      }
    },
    {
      "cell_type": "code",
      "source": [
        "short_df = short_df[short_df.education != 9]"
      ],
      "metadata": {
        "id": "qFt_9ePa56fm"
      },
      "execution_count": 62,
      "outputs": []
    },
    {
      "cell_type": "markdown",
      "source": [
        "For Income, we remove 77 and 99 for don't know and refused\n"
      ],
      "metadata": {
        "id": "B-idTmP76Atn"
      }
    },
    {
      "cell_type": "code",
      "source": [
        "short_df = short_df[short_df.income != 77]\n",
        "short_df = short_df[short_df.income != 99]"
      ],
      "metadata": {
        "id": "WpnQrE1S6Lz-"
      },
      "execution_count": 63,
      "outputs": []
    },
    {
      "cell_type": "code",
      "source": [
        "short_df.shape"
      ],
      "metadata": {
        "colab": {
          "base_uri": "https://localhost:8080/"
        },
        "id": "8ik4SNaV6SN1",
        "outputId": "ff1c9323-2159-4bae-f9a6-fab0d9369cb2"
      },
      "execution_count": 64,
      "outputs": [
        {
          "output_type": "execute_result",
          "data": {
            "text/plain": [
              "(253680, 22)"
            ]
          },
          "metadata": {},
          "execution_count": 64
        }
      ]
    },
    {
      "cell_type": "code",
      "source": [
        "short_df.info()"
      ],
      "metadata": {
        "colab": {
          "base_uri": "https://localhost:8080/"
        },
        "id": "LLQ4G15c-YuW",
        "outputId": "3b31dccd-54b7-444e-c732-fef02d9327ca"
      },
      "execution_count": 66,
      "outputs": [
        {
          "output_type": "stream",
          "name": "stdout",
          "text": [
            "<class 'pandas.core.frame.DataFrame'>\n",
            "Int64Index: 253680 entries, 0 to 441455\n",
            "Data columns (total 22 columns):\n",
            " #   Column               Non-Null Count   Dtype  \n",
            "---  ------               --------------   -----  \n",
            " 0   diabete              253680 non-null  float64\n",
            " 1   high_blood_pressure  253680 non-null  float64\n",
            " 2   high_cholesterol     253680 non-null  float64\n",
            " 3   cholesterol_check    253680 non-null  float64\n",
            " 4   bmi                  253680 non-null  float64\n",
            " 5   heavy_smoker         253680 non-null  float64\n",
            " 6   stroke               253680 non-null  float64\n",
            " 7   heart_disease        253680 non-null  float64\n",
            " 8   physical_activity    253680 non-null  float64\n",
            " 9   fruits               253680 non-null  float64\n",
            " 10  vegetables           253680 non-null  float64\n",
            " 11  heavy_alcohol        253680 non-null  float64\n",
            " 12  health_insurance     253680 non-null  float64\n",
            " 13  health_cost          253680 non-null  float64\n",
            " 14  general_health       253680 non-null  float64\n",
            " 15  mental_health        253680 non-null  float64\n",
            " 16  physical_health      253680 non-null  float64\n",
            " 17  walk                 253680 non-null  float64\n",
            " 18  sex                  253680 non-null  float64\n",
            " 19  age                  253680 non-null  float64\n",
            " 20  education            253680 non-null  float64\n",
            " 21  income               253680 non-null  float64\n",
            "dtypes: float64(22)\n",
            "memory usage: 44.5 MB\n"
          ]
        }
      ]
    },
    {
      "cell_type": "markdown",
      "source": [
        "Let's make the diabete column binary "
      ],
      "metadata": {
        "id": "6-2YDWc6-nav"
      }
    },
    {
      "cell_type": "code",
      "source": [
        "d = {0.0: 0, 1.0: 1, 2.0: 1}\n",
        "short_df['diabete'] = short_df['diabete'].map(d).fillna(short_df['diabete'])\n",
        "short_df['diabete'].value_counts()"
      ],
      "metadata": {
        "colab": {
          "base_uri": "https://localhost:8080/"
        },
        "id": "tdeKGxfe-rdH",
        "outputId": "8fc8b625-ea5f-421c-88f8-acbad48d1cec"
      },
      "execution_count": 68,
      "outputs": [
        {
          "output_type": "execute_result",
          "data": {
            "text/plain": [
              "0    213703\n",
              "1     39977\n",
              "Name: diabete, dtype: int64"
            ]
          },
          "metadata": {},
          "execution_count": 68
        }
      ]
    },
    {
      "cell_type": "markdown",
      "source": [
        "The target variable is unbalanced, we will deal with it later"
      ],
      "metadata": {
        "id": "dSMnrJCN-_7y"
      }
    },
    {
      "cell_type": "markdown",
      "source": [
        "Split the data to train/test sets with a 70/30 ratio"
      ],
      "metadata": {
        "id": "BEGd3AE2_HeF"
      }
    },
    {
      "cell_type": "code",
      "source": [
        "from sklearn.model_selection import train_test_split\n",
        "X = short_df.drop(['diabete'],axis=1)\n",
        "y = short_df['diabete']\n",
        "X_train, X_test, y_train, y_test = train_test_split(X,y, test_size=0.3, random_state=0)"
      ],
      "metadata": {
        "id": "o3zG6zpz-7WX"
      },
      "execution_count": 70,
      "outputs": []
    },
    {
      "cell_type": "markdown",
      "source": [
        "Data is unbalanced, We use SMOTE method on the train set to oversample the data and balance the target variable"
      ],
      "metadata": {
        "id": "srVAWIfj_b82"
      }
    },
    {
      "cell_type": "code",
      "source": [
        "from imblearn.over_sampling import SMOTE\n",
        "sm = SMOTE(sampling_strategy='auto', k_neighbors=1)\n",
        "X_train, y_train = sm.fit_resample(X_train, y_train)"
      ],
      "metadata": {
        "id": "cvOf9Has_fL5"
      },
      "execution_count": 71,
      "outputs": []
    },
    {
      "cell_type": "markdown",
      "source": [
        "For this task we will use \"Random Forest Classifier\" machine learning algorithm"
      ],
      "metadata": {
        "id": "1mzgOCEH_q1N"
      }
    },
    {
      "cell_type": "code",
      "source": [
        "from sklearn.ensemble import RandomForestClassifier\n",
        "rec = RandomForestClassifier().fit(X_train,y_train)\n",
        "print(rec.score(X_train, y_train))\n",
        "print(rec.score(X_test, y_test))"
      ],
      "metadata": {
        "colab": {
          "base_uri": "https://localhost:8080/"
        },
        "id": "iH5F8aUk_ui2",
        "outputId": "42f52c8c-01d6-4945-ae10-a11fd094fe6d"
      },
      "execution_count": 72,
      "outputs": [
        {
          "output_type": "stream",
          "name": "stdout",
          "text": [
            "0.9962527803568209\n",
            "0.8399821297172291\n"
          ]
        }
      ]
    },
    {
      "cell_type": "markdown",
      "source": [
        "Our model has 99% score on training set and 83% on test set. "
      ],
      "metadata": {
        "id": "cPPCsBMz_8Mu"
      }
    },
    {
      "cell_type": "markdown",
      "source": [
        "Let's take a look at the confusion matrix and classification report"
      ],
      "metadata": {
        "id": "JfbvYrycAehH"
      }
    },
    {
      "cell_type": "code",
      "source": [
        "from sklearn.metrics import confusion_matrix, classification_report\n",
        "pred = rec.predict(X_test)\n",
        "print(confusion_matrix(y_test, pred))\n",
        "print(classification_report(y_test, pred))"
      ],
      "metadata": {
        "colab": {
          "base_uri": "https://localhost:8080/"
        },
        "id": "sXXS0RAwAj7X",
        "outputId": "411cd039-4b5d-4e74-de94-40474872d066"
      },
      "execution_count": 73,
      "outputs": [
        {
          "output_type": "stream",
          "name": "stdout",
          "text": [
            "[[61254  2738]\n",
            " [ 9440  2672]]\n",
            "              precision    recall  f1-score   support\n",
            "\n",
            "           0       0.87      0.96      0.91     63992\n",
            "           1       0.49      0.22      0.30     12112\n",
            "\n",
            "    accuracy                           0.84     76104\n",
            "   macro avg       0.68      0.59      0.61     76104\n",
            "weighted avg       0.81      0.84      0.81     76104\n",
            "\n"
          ]
        }
      ]
    },
    {
      "cell_type": "markdown",
      "source": [
        "This model is not perfect as the precision is quite low for the variable '1' and higher for '0' but it is a good classifier compared to the others."
      ],
      "metadata": {
        "id": "obb860rKAuS5"
      }
    }
  ]
}